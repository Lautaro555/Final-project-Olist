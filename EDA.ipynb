{
 "cells": [
  {
   "cell_type": "code",
   "execution_count": null,
   "metadata": {},
   "outputs": [],
   "source": [
    "import pandas as pd\n",
    "import numpy as np\n",
    "import matplotlib.pyplot as plt\n",
    "import seaborn as sns\n",
    "from scipy import stats"
   ]
  },
  {
   "attachments": {},
   "cell_type": "markdown",
   "metadata": {},
   "source": [
    "## Closed_deals"
   ]
  },
  {
   "cell_type": "code",
   "execution_count": null,
   "metadata": {},
   "outputs": [],
   "source": [
    "# carga del dataset y muestreo de 10 registros aleatorios\n",
    "Closed_deals = pd.read_csv('Datasets_original/olist_closed_deals_dataset.csv')\n",
    "Closed_deals.sample(10)"
   ]
  },
  {
   "cell_type": "code",
   "execution_count": null,
   "metadata": {},
   "outputs": [],
   "source": [
    "# tamaño del dataset\n",
    "Closed_deals.shape"
   ]
  },
  {
   "cell_type": "code",
   "execution_count": null,
   "metadata": {},
   "outputs": [],
   "source": [
    "# tipo de datos, no nulos y cantidad de registros para cada columna\n",
    "Closed_deals.info()"
   ]
  },
  {
   "cell_type": "code",
   "execution_count": null,
   "metadata": {},
   "outputs": [],
   "source": [
    "# descripcion de las columnas numéricas\n",
    "Closed_deals.describe()"
   ]
  },
  {
   "cell_type": "code",
   "execution_count": null,
   "metadata": {},
   "outputs": [],
   "source": [
    "# como se comportan las variables categóricas-- count=cantidad, unique=registros unicos, top=mas veces registrado, freq=frecuencia de los registros con mas aparariciones\n",
    "Closed_deals.describe(include=['O'])"
   ]
  },
  {
   "cell_type": "code",
   "execution_count": null,
   "metadata": {},
   "outputs": [],
   "source": [
    "# cuantos datos nulos por columna se encuentran\n",
    "valores=Closed_deals.isna().sum().sort_values(ascending=False)*100/Closed_deals.shape[0]\n",
    "sns.set(style=\"darkgrid\")\n",
    "sns.set(rc={'figure.figsize':(15,8)})\n",
    "\n",
    "# Establecer los datos\n",
    "ax = sns.barplot(x=valores.index, y=valores)\n",
    "\n",
    "# Establecer etiquetas\n",
    "ax.set_ylabel('Porcentaje Nulos')\n",
    "plt.xticks(rotation=45,ha='right')\n",
    "\n",
    "ax.set_ylim(top=valores.max())\n",
    "\n",
    "for p in ax.patches:\n",
    "    ax.annotate(str(np.round(p.get_height(),decimals=1))+\" %\", \n",
    "                (p.get_x()+p.get_width()/2., p.get_height()), \n",
    "                ha='center', \n",
    "                va='center', \n",
    "                xytext=(0, 10), \n",
    "                textcoords='offset points',\n",
    "                fontsize = 10\n",
    "               )\n",
    "\n",
    "# Mostrar la gráfica\n",
    "plt.show()"
   ]
  },
  {
   "attachments": {},
   "cell_type": "markdown",
   "metadata": {},
   "source": [
    "- De un total de 842 registros las columnas has_company, has_gtin, average_stock y declared_product_catalog_size tiene mas del 90 % de sus datos faltantes\n",
    "- Esta tabla no aporta datos muy relevantes"
   ]
  },
  {
   "attachments": {},
   "cell_type": "markdown",
   "metadata": {},
   "source": [
    "## Customers"
   ]
  },
  {
   "cell_type": "code",
   "execution_count": null,
   "metadata": {},
   "outputs": [],
   "source": [
    "# carga del dataset y muestreo de 10 registros aleatorios\n",
    "Customers = pd.read_csv('Datasets_original/olist_customers_dataset.csv')\n",
    "Customers.sample(10)"
   ]
  },
  {
   "cell_type": "code",
   "execution_count": null,
   "metadata": {},
   "outputs": [],
   "source": [
    "# tamaño del dataset\n",
    "Customers.shape"
   ]
  },
  {
   "cell_type": "code",
   "execution_count": null,
   "metadata": {},
   "outputs": [],
   "source": [
    "# tipo de datos, no nulos y cantidad de registros para cada columna\n",
    "Customers.info()"
   ]
  },
  {
   "cell_type": "code",
   "execution_count": null,
   "metadata": {},
   "outputs": [],
   "source": [
    "# descripcion de las columnas numéricas \n",
    "Customers.describe()"
   ]
  },
  {
   "cell_type": "code",
   "execution_count": null,
   "metadata": {},
   "outputs": [],
   "source": [
    "# como se comportan las variables categóricas-- count=cantidad, unique=registros unicos, top=mas veces registrado, freq=frecuencia de los registros con mas aparariociones\n",
    "Customers.describe(include=['O'])"
   ]
  },
  {
   "cell_type": "code",
   "execution_count": null,
   "metadata": {},
   "outputs": [],
   "source": [
    "#15 ciudades con mayor cantidad de clientes\n",
    "val=Cantidad_por_ciudad=Customers.groupby([\"customer_city\"]).count().sort_values(by=[\"customer_id\"],ascending=False).drop_duplicates(\"customer_id\")[\"customer_id\"].head(15)\n",
    "plot = val.plot.pie(ylabel=\"\",subplots=True, figsize=(20, 10),autopct='%1.1f%%')"
   ]
  },
  {
   "attachments": {},
   "cell_type": "markdown",
   "metadata": {},
   "source": [
    "- Analizando Customers faltan datos de customers_unique_id que no hay referencia de como fueron creados esos codigos\n",
    "- Esta tabla se puede utilizar para saber de qué ciudades provienen los consumos"
   ]
  },
  {
   "attachments": {},
   "cell_type": "markdown",
   "metadata": {},
   "source": [
    "## Geolocation"
   ]
  },
  {
   "cell_type": "code",
   "execution_count": null,
   "metadata": {},
   "outputs": [],
   "source": [
    "# carga del dataset y muestreo de 10 registros aleatorios\n",
    "Geolocation = pd.read_csv('Datasets_original/olist_geolocation_dataset.csv')\n",
    "Geolocation.sample(10)"
   ]
  },
  {
   "cell_type": "code",
   "execution_count": null,
   "metadata": {},
   "outputs": [],
   "source": [
    "# tamaño del dataset\n",
    "Geolocation.shape"
   ]
  },
  {
   "cell_type": "code",
   "execution_count": null,
   "metadata": {},
   "outputs": [],
   "source": [
    "# tipo de datos, no nulos y cantidad de registros para cada columna\n",
    "Geolocation.info()"
   ]
  },
  {
   "cell_type": "code",
   "execution_count": null,
   "metadata": {},
   "outputs": [],
   "source": [
    "# descripcion de las columnas numéricas\n",
    "Geolocation.describe()"
   ]
  },
  {
   "cell_type": "code",
   "execution_count": null,
   "metadata": {},
   "outputs": [],
   "source": [
    "# como se comportan las variables categóricas-- count=cantidad, unique=registros unicos, top=mas veces registrado, freq=frecuencia de los registros con mas aparariociones\n",
    "Geolocation.describe(include=['O'])"
   ]
  },
  {
   "attachments": {},
   "cell_type": "markdown",
   "metadata": {},
   "source": [
    "- Esta tabla puede servir para ubicar las ciudades correctamente en objeto mapa del Dashboard."
   ]
  },
  {
   "attachments": {},
   "cell_type": "markdown",
   "metadata": {},
   "source": [
    "## Marketing"
   ]
  },
  {
   "cell_type": "code",
   "execution_count": null,
   "metadata": {},
   "outputs": [],
   "source": [
    "# carga del dataset y muestreo de 10 registros aleatorios\n",
    "Marketing = pd.read_csv('Datasets_original/olist_marketing_qualified_leads_dataset.csv')\n",
    "Marketing.sample(10)"
   ]
  },
  {
   "cell_type": "code",
   "execution_count": null,
   "metadata": {},
   "outputs": [],
   "source": [
    "# tamaño del dataset\n",
    "Marketing.shape"
   ]
  },
  {
   "cell_type": "code",
   "execution_count": null,
   "metadata": {},
   "outputs": [],
   "source": [
    "# tipo de datos, no nulos y cantidad de registros para cada columna\n",
    "Marketing.info()"
   ]
  },
  {
   "cell_type": "code",
   "execution_count": null,
   "metadata": {},
   "outputs": [],
   "source": [
    "# descripcion de las columnas numéricas\n",
    "Marketing.describe()"
   ]
  },
  {
   "cell_type": "code",
   "execution_count": null,
   "metadata": {},
   "outputs": [],
   "source": [
    "# como se comportan las variables categóricas-- count=cantidad, unique=registros unicos, top=mas veces registrado, freq=frecuencia de los registros con mas aparariociones\n",
    "Marketing.describe(include=['O'])"
   ]
  },
  {
   "cell_type": "code",
   "execution_count": null,
   "metadata": {},
   "outputs": [],
   "source": [
    "# cuantos datos nulos por columna se encuentran\n",
    "Marketing.isna().sum()*100/Marketing.shape[0]"
   ]
  },
  {
   "attachments": {},
   "cell_type": "markdown",
   "metadata": {},
   "source": [
    "- Esta tabla no aporta datos significativos para el análisis que queremos realizar"
   ]
  },
  {
   "attachments": {},
   "cell_type": "markdown",
   "metadata": {},
   "source": [
    "## Order_items"
   ]
  },
  {
   "cell_type": "code",
   "execution_count": null,
   "metadata": {},
   "outputs": [],
   "source": [
    "# carga del dataset y muestreo de 10 registros aleatorios\n",
    "Order_items = pd.read_csv('Datasets_original/olist_order_items_dataset.csv')\n",
    "Order_items.sample(10)"
   ]
  },
  {
   "cell_type": "code",
   "execution_count": null,
   "metadata": {},
   "outputs": [],
   "source": [
    "# tamaño del dataset\n",
    "Order_items.shape"
   ]
  },
  {
   "cell_type": "code",
   "execution_count": null,
   "metadata": {},
   "outputs": [],
   "source": [
    "# tipo de datos, no nulos y cantidad de registros para cada columna\n",
    "Order_items.info()"
   ]
  },
  {
   "cell_type": "code",
   "execution_count": null,
   "metadata": {},
   "outputs": [],
   "source": [
    "# descripcion de las columnas numéricas\n",
    "Order_items.describe()"
   ]
  },
  {
   "cell_type": "code",
   "execution_count": null,
   "metadata": {},
   "outputs": [],
   "source": [
    "# Detección de outliers\n",
    "sns.boxplot(x=Order_items.price)"
   ]
  },
  {
   "cell_type": "code",
   "execution_count": null,
   "metadata": {},
   "outputs": [],
   "source": [
    "# Rango intercuartil\n",
    "IQR = Order_items.price.quantile(0.75) - Order_items.price.quantile(0.25)\n",
    "lower_lim = Order_items.price.quantile(0.25) - 2.5 * IQR\n",
    "upper_lim = Order_items.price.quantile(0.75) + 2.5 * IQR\n",
    "outliers_low = Order_items.price < lower_lim\n",
    "outliers_up = Order_items.price > upper_lim\n",
    "print(\"Total de outliers:\",(len(Order_items.price[outliers_low]) + len(Order_items.price[outliers_up])))\n",
    "Order_items[~(outliers_low | outliers_up)].shape"
   ]
  },
  {
   "cell_type": "code",
   "execution_count": null,
   "metadata": {},
   "outputs": [],
   "source": [
    "# Z-Score\n",
    "z = np.abs(stats.zscore(Order_items.price))\n",
    "outliers = Order_items.price[(z > 3)].index\n",
    "print(\"Total de outliers:\", len(outliers))\n",
    "Order_items.drop(outliers).shape"
   ]
  },
  {
   "cell_type": "code",
   "execution_count": null,
   "metadata": {},
   "outputs": [],
   "source": [
    "# como se comportan las variables categóricas-- count=cantidad, unique=registros unicos, top=mas veces registrado, freq=frecuencia de los registros con mas aparariociones\n",
    "Order_items.describe(include=['O'])"
   ]
  },
  {
   "cell_type": "code",
   "execution_count": null,
   "metadata": {},
   "outputs": [],
   "source": [
    "# Revisión de la columna order_item_id; expresa la cantidad incremental de artículos presentes en una misma orden\n",
    "Order_items[['order_id', 'order_item_id']].groupby(['order_id']).count().sort_values('order_item_id', ascending=False)"
   ]
  },
  {
   "cell_type": "code",
   "execution_count": null,
   "metadata": {},
   "outputs": [],
   "source": [
    "# Revisión de la columna product_id; cuál es el producto más vendido\n",
    "Order_items[['order_id','product_id']].groupby(['product_id']).count().sort_values('order_id', ascending=False)"
   ]
  },
  {
   "cell_type": "code",
   "execution_count": null,
   "metadata": {},
   "outputs": [],
   "source": [
    "# Revisión de la columna product_id; cuánto facturó el producto más vendido\n",
    "Order_items[['price','product_id']].groupby(['product_id']).sum().sort_values('price', ascending=False)"
   ]
  },
  {
   "cell_type": "code",
   "execution_count": null,
   "metadata": {},
   "outputs": [],
   "source": [
    "# Revisión de la columna seller_id; cuál es el vendedor con más órdenes\n",
    "Order_items[['order_id','seller_id']].groupby(['seller_id']).count().sort_values('order_id', ascending=False)"
   ]
  },
  {
   "cell_type": "code",
   "execution_count": null,
   "metadata": {},
   "outputs": [],
   "source": [
    "# Revisión de la columna seller_id; cuánto sumaron las órdenes de cada vendedor\n",
    "Order_items[['price','seller_id']].groupby(['seller_id']).sum().sort_values('price', ascending=False)"
   ]
  },
  {
   "attachments": {},
   "cell_type": "markdown",
   "metadata": {},
   "source": [
    "## Order_payments"
   ]
  },
  {
   "cell_type": "code",
   "execution_count": null,
   "metadata": {},
   "outputs": [],
   "source": [
    "# carga del dataset y muestreo de 10 registros aleatorios\n",
    "Order_payments = pd.read_csv('Datasets_original/olist_order_payments_dataset.csv')"
   ]
  },
  {
   "cell_type": "code",
   "execution_count": null,
   "metadata": {},
   "outputs": [],
   "source": [
    "Order_payments.sample(10)"
   ]
  },
  {
   "cell_type": "code",
   "execution_count": null,
   "metadata": {},
   "outputs": [],
   "source": [
    "# tamaño del dataset\n",
    "Order_payments.shape"
   ]
  },
  {
   "cell_type": "code",
   "execution_count": null,
   "metadata": {},
   "outputs": [],
   "source": [
    "# tipo de datos, no nulos y cantidad de registros para cada columna\n",
    "Order_payments.info()"
   ]
  },
  {
   "cell_type": "code",
   "execution_count": null,
   "metadata": {},
   "outputs": [],
   "source": [
    "# descripcion de las columnas numéricas\n",
    "Order_payments.describe()"
   ]
  },
  {
   "cell_type": "code",
   "execution_count": null,
   "metadata": {},
   "outputs": [],
   "source": [
    "# como se comportan las variables categóricas-- count=cantidad, unique=registros unicos, top=mas veces registrado, freq=frecuencia de los registros con mas aparariociones\n",
    "Order_payments.describe(include=['O'])"
   ]
  },
  {
   "attachments": {},
   "cell_type": "markdown",
   "metadata": {},
   "source": [
    "- El comportamiento de los pagos. La utilidad dependerá de la propuesta del PO"
   ]
  },
  {
   "attachments": {},
   "cell_type": "markdown",
   "metadata": {},
   "source": [
    "## Order_reviews"
   ]
  },
  {
   "cell_type": "code",
   "execution_count": null,
   "metadata": {},
   "outputs": [],
   "source": [
    "# carga del dataset y muestreo de 10 registros aleatorios\n",
    "Order_reviews = pd.read_csv('Datasets_original/olist_order_reviews_dataset.csv')\n",
    "Order_reviews.sample(10)"
   ]
  },
  {
   "cell_type": "code",
   "execution_count": null,
   "metadata": {},
   "outputs": [],
   "source": [
    "# tamaño del dataset\n",
    "Order_reviews.shape"
   ]
  },
  {
   "cell_type": "code",
   "execution_count": null,
   "metadata": {},
   "outputs": [],
   "source": [
    "# tipo de datos, no nulos y cantidad de registros para cada columna\n",
    "Order_reviews.info()"
   ]
  },
  {
   "cell_type": "code",
   "execution_count": null,
   "metadata": {},
   "outputs": [],
   "source": [
    "# descripcion de las columnas numéricas\n",
    "Order_reviews.describe()"
   ]
  },
  {
   "cell_type": "code",
   "execution_count": null,
   "metadata": {},
   "outputs": [],
   "source": [
    "# como se comportan las variables categóricas-- count=cantidad, unique=registros unicos, top=mas veces registrado, freq=frecuencia de los registros con mas aparariociones\n",
    "Order_reviews.describe(include=['O'])"
   ]
  },
  {
   "cell_type": "code",
   "execution_count": null,
   "metadata": {},
   "outputs": [],
   "source": [
    "# cuantos datos nulos por columna se encuentran\n",
    "Order_reviews.isna().sum()*100/Order_reviews.shape[0]"
   ]
  },
  {
   "cell_type": "code",
   "execution_count": null,
   "metadata": {},
   "outputs": [],
   "source": [
    "val=Order_reviews.review_score.value_counts()\n",
    "plot = val.plot.pie(subplots=True, figsize=(20, 10),autopct='%1.1f%%')"
   ]
  },
  {
   "attachments": {},
   "cell_type": "markdown",
   "metadata": {},
   "source": [
    "- La utilidad de esta tabla dependerá del objetivo propuesto."
   ]
  },
  {
   "attachments": {},
   "cell_type": "markdown",
   "metadata": {},
   "source": [
    "## Orders"
   ]
  },
  {
   "cell_type": "code",
   "execution_count": null,
   "metadata": {},
   "outputs": [],
   "source": [
    "# carga del dataset y muestreo de 10 registros aleatorios\n",
    "Orders = pd.read_csv('Datasets_original/olist_orders_dataset.csv')\n",
    "Orders.sample(10)"
   ]
  },
  {
   "cell_type": "code",
   "execution_count": null,
   "metadata": {},
   "outputs": [],
   "source": [
    "#En la columna orders se puede agregar una nueva columna que contenga la cantidad de dias entre\n",
    "#la aprobacion de una compra y su entrega al cliente.\n",
    "\n",
    "Orders['Tiempo_entrega'] = pd.to_datetime(Orders[\"order_approved_at\"]) - pd.to_datetime(Orders['order_delivered_customer_date'])\n",
    "\n",
    "#Transformar los valores a solo días\n",
    "Orders['Tiempo_entrega'] = Orders['Tiempo_entrega'].apply(lambda x: x.days + (x.seconds // 86400)) "
   ]
  },
  {
   "cell_type": "code",
   "execution_count": null,
   "metadata": {},
   "outputs": [],
   "source": [
    "# tamaño del dataset\n",
    "Orders.shape"
   ]
  },
  {
   "cell_type": "code",
   "execution_count": null,
   "metadata": {},
   "outputs": [],
   "source": [
    "# tipo de datos, no nulos y cantidad de registros para cada columna\n",
    "Orders.info()"
   ]
  },
  {
   "cell_type": "code",
   "execution_count": null,
   "metadata": {},
   "outputs": [],
   "source": [
    "# descripcion de las columnas numéricas\n",
    "Orders.describe()"
   ]
  },
  {
   "cell_type": "code",
   "execution_count": null,
   "metadata": {},
   "outputs": [],
   "source": [
    "# como se comportan las variables categóricas-- count=cantidad, unique=registros unicos, top=mas veces registrado, freq=frecuencia de los registros con mas aparariociones\n",
    "Orders.describe(include=['O'])"
   ]
  },
  {
   "cell_type": "code",
   "execution_count": null,
   "metadata": {},
   "outputs": [],
   "source": [
    "# cuantos datos nulos por columna se encuentran\n",
    "valores=Orders.isna().sum()*100/Orders.shape[0]\n",
    "\n",
    "sns.set(style=\"darkgrid\")\n",
    "sns.set(rc={'figure.figsize':(15,5)})\n",
    "\n",
    "# Establecer los datos\n",
    "ax = sns.barplot(x=valores.index, y=valores)\n",
    "\n",
    "# Establecer etiquetas\n",
    "ax.set_ylabel('Porcentaje Nulos')\n",
    "plt.xticks(rotation=45,ha='right')\n",
    "\n",
    "ax.set_ylim(top=valores.max())\n",
    "\n",
    "for p in ax.patches:\n",
    "    ax.annotate(str(np.round(p.get_height(),decimals=1))+\" %\", \n",
    "                (p.get_x()+p.get_width()/2., p.get_height()), \n",
    "                ha='center', \n",
    "                va='center', \n",
    "                xytext=(0, 10), \n",
    "                textcoords='offset points',\n",
    "                fontsize = 10\n",
    "               )\n",
    "\n",
    "# Mostrar la gráfica\n",
    "plt.show()"
   ]
  },
  {
   "attachments": {},
   "cell_type": "markdown",
   "metadata": {},
   "source": [
    "- La utilidad de esta tabla dependerá del objetivo."
   ]
  },
  {
   "attachments": {},
   "cell_type": "markdown",
   "metadata": {},
   "source": [
    "## Products"
   ]
  },
  {
   "cell_type": "code",
   "execution_count": null,
   "metadata": {},
   "outputs": [],
   "source": [
    "# carga del dataset y muestreo de 10 registros aleatorios\n",
    "Products = pd.read_csv('Datasets_original/olist_products_dataset.csv')\n",
    "Products.sample(10)"
   ]
  },
  {
   "cell_type": "code",
   "execution_count": null,
   "metadata": {},
   "outputs": [],
   "source": [
    "# tamaño del dataset\n",
    "Products.shape"
   ]
  },
  {
   "cell_type": "code",
   "execution_count": null,
   "metadata": {},
   "outputs": [],
   "source": [
    "# tipo de datos, no nulos y cantidad de registros para cada columna\n",
    "Products.info()"
   ]
  },
  {
   "cell_type": "code",
   "execution_count": null,
   "metadata": {},
   "outputs": [],
   "source": [
    "# descripcion de las columnas numéricas\n",
    "Products.describe()"
   ]
  },
  {
   "cell_type": "code",
   "execution_count": null,
   "metadata": {},
   "outputs": [],
   "source": [
    "# como se comportan las variables categóricas-- count=cantidad, unique=registros unicos, top=mas veces registrado, freq=frecuencia de los registros con mas aparariociones\n",
    "Products.describe(include=['O'])"
   ]
  },
  {
   "cell_type": "code",
   "execution_count": null,
   "metadata": {},
   "outputs": [],
   "source": [
    "# cuantos datos nulos por columna se encuentran\n",
    "valores=Products.isna().sum()*100/Products.shape[0]\n",
    "sns.set(style=\"darkgrid\")\n",
    "sns.set(rc={'figure.figsize':(12,5)})\n",
    "\n",
    "# Establecer los datos\n",
    "ax = sns.barplot(x=valores.index, y=valores)\n",
    "\n",
    "# Establecer etiquetas\n",
    "ax.set_ylabel('Porcentaje Nulos')\n",
    "plt.xticks(rotation=45,ha='right')\n",
    "\n",
    "ax.set_ylim(top=valores.max())\n",
    "\n",
    "for p in ax.patches:\n",
    "    ax.annotate(str(np.round(p.get_height(),decimals=1))+\" %\", \n",
    "                (p.get_x()+p.get_width()/2., p.get_height()), \n",
    "                ha='center', \n",
    "                va='center', \n",
    "                xytext=(0, 10), \n",
    "                textcoords='offset points',\n",
    "                fontsize = 10\n",
    "               )\n",
    "\n",
    "# Mostrar la gráfica\n",
    "plt.show()"
   ]
  },
  {
   "attachments": {},
   "cell_type": "markdown",
   "metadata": {},
   "source": [
    "- La utilidad de esta tabla dependerá del objetivo."
   ]
  },
  {
   "attachments": {},
   "cell_type": "markdown",
   "metadata": {},
   "source": [
    "## Sellers"
   ]
  },
  {
   "cell_type": "code",
   "execution_count": null,
   "metadata": {},
   "outputs": [],
   "source": [
    "# carga del dataset y muestreo de 10 registros aleatorios\n",
    "Sellers = pd.read_csv('Datasets_original/olist_sellers_dataset.csv')\n",
    "Sellers.sample(10)"
   ]
  },
  {
   "cell_type": "code",
   "execution_count": null,
   "metadata": {},
   "outputs": [],
   "source": [
    "# tamaño del dataset\n",
    "Sellers.shape"
   ]
  },
  {
   "cell_type": "code",
   "execution_count": null,
   "metadata": {},
   "outputs": [],
   "source": [
    "# revisamos la distribución de las ciudades (mejor con un gráfico)\n",
    "Sellers.seller_city.value_counts()"
   ]
  },
  {
   "cell_type": "code",
   "execution_count": null,
   "metadata": {},
   "outputs": [],
   "source": [
    "# tipo de datos, no nulos y cantidad de registros para cada columna\n",
    "Sellers.info()"
   ]
  },
  {
   "cell_type": "code",
   "execution_count": null,
   "metadata": {},
   "outputs": [],
   "source": [
    "# descripcion de las columnas numéricas\n",
    "Sellers.describe()"
   ]
  },
  {
   "cell_type": "code",
   "execution_count": null,
   "metadata": {},
   "outputs": [],
   "source": [
    "# como se comportan las variables categóricas-- count=cantidad, unique=registros unicos, top=mas veces registrado, freq=frecuencia de los registros con mas aparariociones\n",
    "Sellers.describe(include=['O'])"
   ]
  },
  {
   "cell_type": "code",
   "execution_count": null,
   "metadata": {},
   "outputs": [],
   "source": [
    "# Revisamos uniendo las tablas, cuál es la ciudad con mayor cantidad de órdenes\n",
    "val=Sellers.merge(Order_items)[['seller_city','order_id']].groupby(['seller_city']).count().sort_values('order_id', ascending=False).head(15)\n",
    "\n",
    "plot = val.plot.pie(subplots=True, figsize=(20, 10),autopct='%1.1f%%')"
   ]
  },
  {
   "cell_type": "code",
   "execution_count": null,
   "metadata": {},
   "outputs": [],
   "source": [
    "# Revisamos uniendo las tablas, cuál es la ciudad con el monto mayor en ventas\n",
    "val=Sellers.merge(Order_items)[['seller_city','price']].groupby(['seller_city']).sum().sort_values('price', ascending=False).head(15)\n",
    "plot = val.plot.pie(subplots=True, figsize=(20, 10),autopct='%1.1f%%')"
   ]
  },
  {
   "cell_type": "code",
   "execution_count": null,
   "metadata": {},
   "outputs": [],
   "source": [
    "# Revisamos uniendo las tablas, cuál es la provincia con mayor cantidad de órdenes\n",
    "val=Sellers.merge(Order_items)[['seller_state','order_id']].groupby(['seller_state']).count().sort_values('order_id', ascending=False).head()\n",
    "\n",
    "plot = val.plot.pie(subplots=True, figsize=(20, 10),autopct='%1.1f%%')"
   ]
  },
  {
   "attachments": {},
   "cell_type": "markdown",
   "metadata": {},
   "source": [
    "## Product_category_name_translation"
   ]
  },
  {
   "cell_type": "code",
   "execution_count": null,
   "metadata": {},
   "outputs": [],
   "source": [
    "# carga del dataset y muestreo de 10 registros aleatorios\n",
    "Product_category_name_translation = pd.read_csv('Datasets_original/product_category_name_translation.csv')\n",
    "Product_category_name_translation.sample(10)"
   ]
  },
  {
   "cell_type": "code",
   "execution_count": null,
   "metadata": {},
   "outputs": [],
   "source": [
    "# tamaño del dataset\n",
    "Product_category_name_translation.shape"
   ]
  },
  {
   "cell_type": "code",
   "execution_count": null,
   "metadata": {},
   "outputs": [],
   "source": [
    "# tipo de datos, no nulos y cantidad de registros para cada columna\n",
    "Product_category_name_translation.info()"
   ]
  },
  {
   "cell_type": "code",
   "execution_count": null,
   "metadata": {},
   "outputs": [],
   "source": [
    "# como se comportan las variables categóricas-- count=cantidad, unique=registros unicos, top=mas veces registrado, freq=frecuencia de los registros con mas aparariociones\n",
    "Product_category_name_translation.describe(include=['O'])"
   ]
  },
  {
   "attachments": {},
   "cell_type": "markdown",
   "metadata": {},
   "source": [
    "## Combinacion de datasets y creacion de matriz de correlacion"
   ]
  },
  {
   "cell_type": "code",
   "execution_count": null,
   "metadata": {},
   "outputs": [],
   "source": [
    "datasets_combinados=Orders.merge(Order_reviews,on=\"order_id\")\n",
    "datasets_combinados=datasets_combinados.merge(Order_payments,on=\"order_id\")\n",
    "datasets_combinados=datasets_combinados.merge(Order_items,on=\"order_id\")\n",
    "datasets_combinados=datasets_combinados.merge(Sellers,on=\"seller_id\")\n",
    "datasets_combinados=datasets_combinados.merge(Closed_deals,on=\"seller_id\",how=\"left\")"
   ]
  },
  {
   "cell_type": "code",
   "execution_count": null,
   "metadata": {},
   "outputs": [],
   "source": [
    "#Lista de columnas a las que se le aplica label encoder\n",
    "list_columns = datasets_combinados.select_dtypes(include='object').columns\n",
    "\n",
    "\n",
    "from sklearn.preprocessing import LabelEncoder\n",
    "le = LabelEncoder()\n",
    "\n",
    "#Se aplica label encoder a todas las columnas\n",
    "for col in list_columns:\n",
    "    datasets_combinados[col] = le.fit_transform(datasets_combinados[col])"
   ]
  },
  {
   "cell_type": "code",
   "execution_count": null,
   "metadata": {},
   "outputs": [],
   "source": [
    "#Se arma otro grafico solo con la columna que se quiere evaluar\n",
    "corr=datasets_combinados.drop([\"declared_monthly_revenue\",\"declared_product_catalog_size\"],axis=1).corr()\n",
    "corr=corr.sort_values(by=\"review_score\",ascending=False)[[\"review_score\"]]\n",
    "sns.set(rc={'figure.figsize':(20,20)})\n",
    "sns.heatmap(corr,annot=True,vmin=-1,vmax=+1)"
   ]
  },
  {
   "attachments": {},
   "cell_type": "markdown",
   "metadata": {},
   "source": [
    "## Tabla valoración vendedor"
   ]
  },
  {
   "attachments": {},
   "cell_type": "markdown",
   "metadata": {},
   "source": [
    "Armaremos una tabla que nos permita darle una valoración a cada vendedor, basado en diferentes unidades:"
   ]
  },
  {
   "attachments": {},
   "cell_type": "markdown",
   "metadata": {},
   "source": [
    "- Location (?)\n",
    "- Amount of distinct products\n",
    "- Type of products (?)\n",
    "- Time to fill order\n",
    "- Review score\n",
    "- Number of orders\n",
    "- Number of sales\n",
    "- Gross income\n",
    "- Net income"
   ]
  },
  {
   "cell_type": "code",
   "execution_count": null,
   "metadata": {},
   "outputs": [],
   "source": [
    "datasets_combinados=Orders.merge(Order_reviews,on=\"order_id\")\n",
    "datasets_combinados=datasets_combinados.merge(Order_payments,on=\"order_id\")\n",
    "datasets_combinados=datasets_combinados.merge(Order_items,on=\"order_id\")\n",
    "datasets_combinados=datasets_combinados.merge(Sellers,on=\"seller_id\")\n",
    "datasets_combinados=datasets_combinados.merge(Products,on=\"product_id\")"
   ]
  },
  {
   "cell_type": "code",
   "execution_count": null,
   "metadata": {},
   "outputs": [],
   "source": [
    "datasets_combinados.head()"
   ]
  },
  {
   "cell_type": "code",
   "execution_count": null,
   "metadata": {},
   "outputs": [],
   "source": [
    "datasets_combinados[\"Month\"] = pd.DatetimeIndex(datasets_combinados[\"order_approved_at\"]).month\n",
    "datasets_combinados[\"Year\"] = pd.DatetimeIndex(datasets_combinados[\"order_approved_at\"]).year\n",
    "\n",
    "datasets_combinados['avg_price_month'] = datasets_combinados.groupby(['seller_id','Month',\"Year\"])['price'].transform('mean')\n"
   ]
  },
  {
   "cell_type": "code",
   "execution_count": null,
   "metadata": {},
   "outputs": [],
   "source": [
    "# Se seleccionan columnas con ID para modificar\n",
    "columnas = [0,1,9,19,20,21]\n",
    "datasets_combinados.columns"
   ]
  },
  {
   "cell_type": "code",
   "execution_count": null,
   "metadata": {},
   "outputs": [],
   "source": [
    "#Se aplica label encoder a las columnas de ID\n",
    "for col in columnas:\n",
    "    datasets_combinados[datasets_combinados.columns[col]] = le.fit_transform(datasets_combinados[datasets_combinados.columns[col]])"
   ]
  },
  {
   "cell_type": "code",
   "execution_count": null,
   "metadata": {},
   "outputs": [],
   "source": [
    "Valoracion = pd.DataFrame(columns=['seller_id'])"
   ]
  },
  {
   "cell_type": "code",
   "execution_count": null,
   "metadata": {},
   "outputs": [],
   "source": [
    "Valoracion.seller_id = datasets_combinados.seller_id.unique()\n",
    "Valoracion = Valoracion.merge(datasets_combinados[['seller_id', 'seller_city']].groupby(['seller_id']).max(), on= 'seller_id')\n",
    "Valoracion = Valoracion.merge(datasets_combinados[['seller_id', 'seller_state']].groupby(['seller_id']).max(), on= 'seller_id')\n",
    "Valoracion = Valoracion.merge(datasets_combinados[['seller_id', 'product_id']].groupby(['seller_id']).count(), on= 'seller_id')\n",
    "Valoracion = Valoracion.merge(datasets_combinados[['seller_id', 'product_category_name']].groupby(['seller_id']).nunique(), on= 'seller_id')\n",
    "Valoracion = Valoracion.merge(datasets_combinados[['seller_id', 'Tiempo_entrega']].groupby(['seller_id']).mean().round(2), on= 'seller_id')\n",
    "Valoracion = Valoracion.merge(datasets_combinados[['seller_id', 'review_score']].groupby(['seller_id']).mean().round(2), on= 'seller_id')\n",
    "Valoracion = Valoracion.merge(datasets_combinados[['seller_id', 'order_id']].groupby(['seller_id']).count(), on= 'seller_id')\n",
    "Valoracion = Valoracion.merge(datasets_combinados[['seller_id', 'price']].groupby(['seller_id']).sum(), on= 'seller_id')\n",
    "Valoracion = Valoracion.merge(datasets_combinados[['seller_id', 'avg_price_month']].groupby(\"seller_id\").mean().reset_index().round(2), on= 'seller_id')"
   ]
  },
  {
   "cell_type": "code",
   "execution_count": null,
   "metadata": {},
   "outputs": [],
   "source": [
    "Valoracion.drop_duplicates(inplace=True)"
   ]
  },
  {
   "cell_type": "code",
   "execution_count": null,
   "metadata": {},
   "outputs": [],
   "source": [
    "Valoracion.rename({'product_id':'distinct_prod', 'Tiempo_entrega':'delivery_avg', 'product_category_name':'distinct_categories',\\\n",
    "                   'review_score':'review_avg', 'order_id':'total_orders', 'price':'total_income'}, axis=1, inplace=True)"
   ]
  },
  {
   "cell_type": "code",
   "execution_count": null,
   "metadata": {},
   "outputs": [],
   "source": [
    "Valoracion"
   ]
  },
  {
   "cell_type": "code",
   "execution_count": null,
   "metadata": {},
   "outputs": [],
   "source": [
    "Valoracion.info()"
   ]
  },
  {
   "cell_type": "code",
   "execution_count": null,
   "metadata": {},
   "outputs": [],
   "source": [
    "Valoracion.to_csv('Datasets_resultantes\\Valoraciones.csv')"
   ]
  }
 ],
 "metadata": {
  "kernelspec": {
   "display_name": "Python 3",
   "language": "python",
   "name": "python3"
  },
  "language_info": {
   "codemirror_mode": {
    "name": "ipython",
    "version": 3
   },
   "file_extension": ".py",
   "mimetype": "text/x-python",
   "name": "python",
   "nbconvert_exporter": "python",
   "pygments_lexer": "ipython3",
   "version": "3.10.7 (tags/v3.10.7:6cc6b13, Sep  5 2022, 14:08:36) [MSC v.1933 64 bit (AMD64)]"
  },
  "orig_nbformat": 4,
  "vscode": {
   "interpreter": {
    "hash": "2711725d473bbbc5495942fb8452d9b92540956864e278750e6f52a820e4fcee"
   }
  }
 },
 "nbformat": 4,
 "nbformat_minor": 2
}
